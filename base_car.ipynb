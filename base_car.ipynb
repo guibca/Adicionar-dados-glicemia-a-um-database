{
  "nbformat": 4,
  "nbformat_minor": 0,
  "metadata": {
    "colab": {
      "provenance": [],
      "authorship_tag": "ABX9TyP8IcUycgtIH1wjGwaLmziR",
      "include_colab_link": true
    },
    "kernelspec": {
      "name": "python3",
      "display_name": "Python 3"
    },
    "language_info": {
      "name": "python"
    }
  },
  "cells": [
    {
      "cell_type": "markdown",
      "metadata": {
        "id": "view-in-github",
        "colab_type": "text"
      },
      "source": [
        "<a href=\"https://colab.research.google.com/github/guibca/Adicionar-dados-glicemia-a-um-database/blob/main/base_car.ipynb\" target=\"_parent\"><img src=\"https://colab.research.google.com/assets/colab-badge.svg\" alt=\"Open In Colab\"/></a>"
      ]
    },
    {
      "cell_type": "markdown",
      "source": [
        "##Importando bibliotecas"
      ],
      "metadata": {
        "id": "uRFJcn6iKBDP"
      }
    },
    {
      "cell_type": "code",
      "execution_count": null,
      "metadata": {
        "id": "-N1u_GkSJ8Nz"
      },
      "outputs": [],
      "source": [
        "import pandas as pd\n",
        "import numpy as np"
      ]
    },
    {
      "cell_type": "markdown",
      "source": [
        "##Criando base de imoveis"
      ],
      "metadata": {
        "id": "OK3_mbEvOYiZ"
      }
    },
    {
      "cell_type": "code",
      "source": [
        "id_imov = ['SP001','SP002','SP003','SC001','SC002','SC003','SC004','PR001','PR002','RS001','RS002','RJ001','RJ002','RJ003','MG001','MG002','MG003','ES001']\n",
        "uf_imov = ['SP','SP','SP','SC','SC','SC','SC','PR','PR','RS','RS','RJ','RJ','RJ','MG','MG','MG','ES']\n",
        "cidade_imov = ['SAO PAULO','CAMPINAS','OSASCO','FLORIANOPOLIS','JOINVILLE','SAO JOSE','BIGUACU','CURITIBA','LONDRINA','PORTO ALEGRE','CAXIAS DO SUL','RIO DE JANEIRO','CABO FRIO','NITEROI','BELO HORIZONTE','OURO PRETO','UBERLANDIA','VITORIA']\n",
        "\n",
        "base_imoveis = {'id':id_imov, 'uf':uf_imov, 'cidade': cidade_imov}\n",
        "base_imoveis = pd.DataFrame(base_imoveis)"
      ],
      "metadata": {
        "id": "cwq_GkP3NquP"
      },
      "execution_count": null,
      "outputs": []
    },
    {
      "cell_type": "markdown",
      "source": [
        "##Criando base clientes"
      ],
      "metadata": {
        "id": "lPmM4EmnKEqU"
      }
    },
    {
      "cell_type": "code",
      "source": [
        "#Define váriavel com quantidade de clientes a gerar para a base\n",
        "clientes = 6000\n",
        "\n",
        "#Cria ID para cada cliente\n",
        "id_cliente = []\n",
        "for codigo in range (1, clientes+1):\n",
        "  id_cliente.append(codigo)\n",
        "\n",
        "#Gera uma lista com uma amostra de nome e sobrenome dos clientes\n",
        "clientes_nome = ['MARIA','CLEIDE','JOAO','AUGUSTO','RAFAEL','BERNARDO','SABRINA','WILLIAN','ROBERTA','LETICIA','ROBSON','LUCIANA','LUCIANO','FERNANDO','FERNANDA','RAFAELA','ALISON','LUCAS']\n",
        "clientes_sobrenome = ['SILVA','SANTOS','COSTA','BUENO','CAMARGO','ANTONIO','LUZ','BARBOSA','PEREIRA','FERNANDEZ','SOUZA','SOUSA','SONZIL','ODERTH','GOEDERT','GARCIA','GRAZIA','FERNANDES']\n",
        "\n",
        "#Seleciona amostras aleatórias das listas de nome e sobrenomes\n",
        "clientes_nome = np.random.choice(clientes_nome, size = clientes)\n",
        "clientes_sobrenome = np.random.choice(clientes_sobrenome, size = clientes)\n",
        "\n",
        "#Gera o número da loja locada para o cliente\n",
        "clientes_loja = []\n",
        "for loja in range(1,clientes+1):\n",
        "  clientes_loja.append(np.random.randint(low = 1, high = 30))\n",
        "\n",
        "#Gera o imóvel da loja locada para o cliente\n",
        "clientes_imov = np.random.choice(id_imov, size = clientes)\n",
        "\n",
        "#Cria dataframe com os dados gerados\n",
        "base_clientes = {'id':id_cliente, 'nome':clientes_nome,'sobrenome':clientes_sobrenome, 'imovel': clientes_imov, 'loja': clientes_loja}\n",
        "base_clientes = pd.DataFrame(base_clientes)"
      ],
      "metadata": {
        "id": "S8HhqFZSMgYw"
      },
      "execution_count": null,
      "outputs": []
    },
    {
      "cell_type": "markdown",
      "source": [
        "##Criando base contas a receber"
      ],
      "metadata": {
        "id": "rn6Z2FEHQpfX"
      }
    },
    {
      "cell_type": "code",
      "source": [
        "#Define váriavel com quantidade de registros a gerar no CAR\n",
        "registros = 60000\n",
        "\n",
        "#Cria ID para cada conta a receber\n",
        "id_car = []\n",
        "for codigo in range(1,registros + 1):\n",
        "  id_car.append(codigo)\n",
        "\n",
        "#Cria valor para cada conta a receber\n",
        "valor = np.random.randint(low = 250, high = 25000, size = registros)\n",
        "\n",
        "#Cria vencimento para cada conta a receber\n",
        "dia_venc = np.random.randint(low = 1, high = 31, size = registros)\n",
        "mes_venc = np.random.randint(low = 3, high = 12, size = registros)\n",
        "\n",
        "#Cria dataframe com os dados gerados\n",
        "base_car = {'id': id_car, 'id_cliente':np.random.choice(id_cliente, size = registros), 'valor': valor, 'dia_vencimento': dia_venc, 'mes_vencimento':mes_venc}\n",
        "base_car = pd.DataFrame(base_car)\n",
        "\n",
        "#Formata dia do vencimento para data\n",
        "base_car['vencimento'] = base_car['dia_vencimento'].astype(str) + '/' + base_car['mes_vencimento'].astype(str) + '/' + '2023'\n",
        "base_car['vencimento'] = pd.to_datetime(base_car['vencimento'], format = '%d/%m/%Y')\n",
        "base_car = base_car.drop(['dia_vencimento', 'mes_vencimento'], axis = 1)"
      ],
      "metadata": {
        "id": "rsX4HyFVQDVo"
      },
      "execution_count": null,
      "outputs": []
    },
    {
      "cell_type": "markdown",
      "source": [
        "##Exportanto tabelas"
      ],
      "metadata": {
        "id": "8swIjvOLYzg9"
      }
    },
    {
      "cell_type": "code",
      "source": [
        "base_imoveis.to_csv('base_imoveis.csv', index = False)\n",
        "base_clientes.to_csv('base_clientes.csv', index = False)\n",
        "base_car.to_csv('base_car.csv', index = False)"
      ],
      "metadata": {
        "id": "EOAashcoY08c"
      },
      "execution_count": null,
      "outputs": []
    }
  ]
}